{
 "cells": [
  {
   "cell_type": "code",
   "execution_count": 1,
   "id": "0294e116",
   "metadata": {},
   "outputs": [
    {
     "name": "stdout",
     "output_type": "stream",
     "text": [
      "enter your marks24\n",
      "F\n",
      "enter your marks61\n",
      "B\n",
      "enter your marks85\n",
      "A\n"
     ]
    }
   ],
   "source": [
    "#1.ask user to enter marks and print the corresponding grade\n",
    "while(1):\n",
    "    a=int(input(\"enter your marks\"))\n",
    "    if a<25:\n",
    "        print(\"F\")\n",
    "    elif 25<a<45:\n",
    "        print(\"E\")\n",
    "    elif 45<a<50:\n",
    "        print(\"D\")\n",
    "    elif 50<a<60:\n",
    "        print(\"C\")\n",
    "    elif 60<a<80:\n",
    "        print(\"B\")\n",
    "    elif a>80:\n",
    "        print(\"A\")\n",
    "        break\n"
   ]
  },
  {
   "cell_type": "code",
   "execution_count": 2,
   "id": "5e3b12d3",
   "metadata": {},
   "outputs": [
    {
     "name": "stdout",
     "output_type": "stream",
     "text": [
      "enter a year2100\n",
      " year is not a leap year\n"
     ]
    }
   ],
   "source": [
    "#2.ask the user for a year and print out whether it is leap year year or not\n",
    "year= int(input(\"enter a year\"))\n",
    "if year%4==0 and year%100!=0 :\n",
    "    print(\"year is a leap year\")\n",
    "elif  year%400==0:\n",
    "    print(\"year is a leap year\")\n",
    "else:\n",
    "    print(\" year is not a leap year\")"
   ]
  },
  {
   "cell_type": "code",
   "execution_count": 7,
   "id": "55753fb2",
   "metadata": {},
   "outputs": [
    {
     "name": "stdout",
     "output_type": "stream",
     "text": [
      "question1:10X10:23\n",
      "wrong.the answer is 100\n",
      "question2:2X7:14\n",
      "Right!\n",
      "question3:3X6:18\n",
      "Right!\n",
      "question4:4X5:34\n",
      "wrong.the answer is 20\n",
      "question5:10X7:57\n",
      "wrong.the answer is 70\n",
      "question6:2X2:4\n",
      "Right!\n",
      "question7:1X2:2\n",
      "Right!\n",
      "question8:10X2:20\n",
      "Right!\n",
      "question9:5X1:5\n",
      "Right!\n",
      "question10:7X9:63\n",
      "Right!\n"
     ]
    }
   ],
   "source": [
    "#3.write a multiplication game for kids\n",
    "\n",
    "import random\n",
    "i=0\n",
    "while(i<10):\n",
    "    i=i+1\n",
    "    a=random.randint(1,10)\n",
    "    b=random.randint(1,10)\n",
    "    c=int(input(f'question{i}:{a}X{b}:'))\n",
    "    if(c==a*b):\n",
    "        print(\"Right!\")\n",
    "    else:\n",
    "        print(f'wrong.the answer is {a*b}')"
   ]
  },
  {
   "cell_type": "code",
   "execution_count": 8,
   "id": "2a4e949d",
   "metadata": {},
   "outputs": [
    {
     "name": "stdout",
     "output_type": "stream",
     "text": [
      "If the candy is distributed evenly among 5 people, how many candy would be left over?\n",
      "2\n",
      "If the candy is distributed evenly among 6 people, how many candy would be left over?\n",
      "3\n",
      "If the candy is distributed evenly among 7 people, how many candy would be left over?\n",
      "2\n",
      "feasible answers = 177"
     ]
    }
   ],
   "source": [
    "#4.\n",
    "i=5\n",
    "arr=[]\n",
    "while (i<8):\n",
    "  print (f\"If the candy is distributed evenly among {i} people, how many candy would be left over?\" )\n",
    "  arr. append (int(input ()))\n",
    "  i+=1\n",
    "set1=[]\n",
    "set2=[]\n",
    "set3=[]\n",
    "\n",
    "j=arr[0]\n",
    "while j<200:\n",
    "  set1. append (j)\n",
    "  j+=5\n",
    "set1=set(set1)\n",
    "k=arr[1]\n",
    "while k<200:\n",
    "  set2. append (k)\n",
    "  k+=6\n",
    "set2=set(set2)\n",
    "l=arr[2]\n",
    "while l<200:\n",
    "  set3. append (l)\n",
    "  l+=7\n",
    "set3=set(set3)\n",
    "set4=set1. intersection (set2)\n",
    "set5=set3. intersection (set4)\n",
    "print (\"feasible answers = \",end=\"\" )\n",
    "for i in set5:\n",
    "   print (i,end=\"\")"
   ]
  },
  {
   "cell_type": "code",
   "execution_count": null,
   "id": "2a721bc2",
   "metadata": {},
   "outputs": [],
   "source": []
  }
 ],
 "metadata": {
  "kernelspec": {
   "display_name": "Python 3 (ipykernel)",
   "language": "python",
   "name": "python3"
  },
  "language_info": {
   "codemirror_mode": {
    "name": "ipython",
    "version": 3
   },
   "file_extension": ".py",
   "mimetype": "text/x-python",
   "name": "python",
   "nbconvert_exporter": "python",
   "pygments_lexer": "ipython3",
   "version": "3.9.13"
  }
 },
 "nbformat": 4,
 "nbformat_minor": 5
}
